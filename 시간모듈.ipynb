{
 "cells": [
  {
   "cell_type": "code",
   "execution_count": 1,
   "metadata": {},
   "outputs": [
    {
     "name": "stdout",
     "output_type": "stream",
     "text": [
      "15분:1:15:00\n",
      "2023-04-30 17:31:12.571028\n",
      "예약 시간: 2023-04-30 18:46:12.571028\n"
     ]
    }
   ],
   "source": [
    "import datetime\n",
    "\n",
    "# 현재 시간을 구하기\n",
    "current_time = datetime.datetime.now()\n",
    "\n",
    "# 15분을 추가하기\n",
    "fifteen_minutes = datetime.timedelta(minutes=15,hours=1)\n",
    "print(f\"15분:{fifteen_minutes}\")\n",
    "reservation_time = current_time + fifteen_minutes\n",
    "\n",
    "# 예약 시간 출력하기\n",
    "print(current_time)\n",
    "print(f\"예약 시간: {reservation_time}\")"
   ]
  },
  {
   "cell_type": "code",
   "execution_count": 17,
   "metadata": {},
   "outputs": [
    {
     "name": "stdout",
     "output_type": "stream",
     "text": [
      "\"2023-04-30 17:47:56\"\n"
     ]
    }
   ],
   "source": [
    "import json\n",
    "from datetime import datetime\n",
    "\n",
    "# datetime 객체 생성\n",
    "now = datetime.now()\n",
    "\n",
    "# datetime 객체를 문자열로 변환하여 JSON으로 직렬화\n",
    "data = json.dumps(now.strftime('%Y-%m-%d %H:%M:%S'))\n",
    "\n",
    "# JSON 출력\n",
    "print(data)\n"
   ]
  },
  {
   "cell_type": "code",
   "execution_count": 19,
   "metadata": {},
   "outputs": [
    {
     "name": "stdout",
     "output_type": "stream",
     "text": [
      "2023-04-30 17:48\n",
      "<class 'datetime.datetime'>\n"
     ]
    }
   ],
   "source": [
    "import json\n",
    "from datetime import datetime\n",
    "\n",
    "# datetime 객체 생성\n",
    "now = datetime.now()\n",
    "\n",
    "# datetime 객체를 문자열로 변환하여 JSON으로 직렬화\n",
    "# data = json.dumps(now.strftime('%Y-%m-%d %H:%M:%S'))\n",
    "data=now.strftime('%Y-%m-%d %H:%M')\n",
    "# JSON 출력\n",
    "print(data)\n",
    "\n",
    "date_obj = datetime.strptime(data, '%Y-%m-%d %H:%M')\n",
    "print(type(date_obj))\n"
   ]
  },
  {
   "cell_type": "code",
   "execution_count": 16,
   "metadata": {},
   "outputs": [
    {
     "name": "stdout",
     "output_type": "stream",
     "text": [
      "2023-04-30 00:00:00\n",
      "1900-01-01 12:34:56\n"
     ]
    }
   ],
   "source": [
    "from datetime import datetime\n",
    "\n",
    "# 문자열 생성\n",
    "date_string = '2023-04-30'\n",
    "time_string = '12:34:56'\n",
    "\n",
    "# 문자열을 datetime 객체로 변환\n",
    "date_obj = datetime.strptime(date_string, '%Y-%m-%d')\n",
    "time_obj = datetime.strptime(time_string, '%H:%M:%S')\n",
    "\n",
    "# datetime 객체 출력\n",
    "print(date_obj)\n",
    "print(time_obj)\n"
   ]
  },
  {
   "cell_type": "code",
   "execution_count": null,
   "metadata": {},
   "outputs": [],
   "source": [
    "import datetime\n",
    "import time\n",
    "\n",
    "def main():\n",
    "    # 사용자로부터 예약 시간 입력 받기\n",
    "    print(\"예약 시간을 입력하세요. (24시간 형식) 예시: 17:30\")\n",
    "    reservation_time = input()\n",
    "\n",
    "    # 입력된 시간을 datetime 객체로 변환\n",
    "    now = datetime.datetime.now()\n",
    "    reservation_hour, reservation_minute = map(int, reservation_time.split(':'))\n",
    "    reservation_datetime = now.replace(hour=reservation_hour, minute=reservation_minute, second=0, microsecond=0)\n",
    "\n",
    "    # 예약 시간이 이미 지난 경우, 다음 날로 설정\n",
    "    if now > reservation_datetime:\n",
    "        reservation_datetime += datetime.timedelta(days=1)\n",
    "\n",
    "    # 현재 시간과 예약 시간 사이의 시간(초) 계산\n",
    "    time_diff = (reservation_datetime - now).total_seconds()\n",
    "\n",
    "    print(f\"{reservation_datetime}에 알림이 설정되었습니다.\")\n",
    "\n",
    "    # 예약 시간까지 대기\n",
    "    time.sleep(time_diff)\n",
    "    \n",
    "    # 알림 메시지 출력\n",
    "    print(\"예약 시간입니다!\")\n",
    "\n",
    "if __name__ == \"__main__\":\n",
    "    main()\n"
   ]
  }
 ],
 "metadata": {
  "kernelspec": {
   "display_name": "Python 3",
   "language": "python",
   "name": "python3"
  },
  "language_info": {
   "codemirror_mode": {
    "name": "ipython",
    "version": 3
   },
   "file_extension": ".py",
   "mimetype": "text/x-python",
   "name": "python",
   "nbconvert_exporter": "python",
   "pygments_lexer": "ipython3",
   "version": "3.10.10"
  },
  "orig_nbformat": 4
 },
 "nbformat": 4,
 "nbformat_minor": 2
}
