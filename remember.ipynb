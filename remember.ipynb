{
 "cells": [
  {
   "cell_type": "code",
   "execution_count": 1,
   "metadata": {},
   "outputs": [],
   "source": [
    "from undetective_selenium_na import *\n",
    "import random,re\n",
    "from selenium.webdriver.common.action_chains import ActionChains \n",
    "from selenium.webdriver.common.keys import Keys \n",
    "from urllib import parse"
   ]
  },
  {
   "cell_type": "code",
   "execution_count": 2,
   "metadata": {},
   "outputs": [
    {
     "name": "stderr",
     "output_type": "stream",
     "text": [
      "c:\\Users\\leesanghyone\\AppData\\Local\\Programs\\Python\\Python310\\lib\\site-packages\\undetected_chromedriver\\__init__.py:338: UserWarning: using ChromeOptions.user_data_dir might stop working in future versions.use uc.Chrome(user_data_dir='/xyz/some/data') in case you need existing profile folder\n",
      "  warnings.warn(\n"
     ]
    }
   ],
   "source": [
    "driver=make_driver()"
   ]
  },
  {
   "cell_type": "code",
   "execution_count": 20,
   "metadata": {},
   "outputs": [],
   "source": [
    "driver.get(\"https://www.coupang.com/\")"
   ]
  },
  {
   "cell_type": "code",
   "execution_count": 6,
   "metadata": {},
   "outputs": [],
   "source": [
    "switch_handle(-1)\n",
    "scroll_CssVer(\"#btfTab > ul.tab-contents > li.product-review.tab-contents__content > div > div.sdp-review__article.js_reviewArticleContainer > section.sdp-review__article__order.js_reviewArticleOrderContainer.sdp-review__article__order--active > div.sdp-review__article__order__sort\")"
   ]
  },
  {
   "cell_type": "code",
   "execution_count": 24,
   "metadata": {},
   "outputs": [],
   "source": []
  },
  {
   "cell_type": "code",
   "execution_count": 7,
   "metadata": {},
   "outputs": [
    {
     "name": "stdout",
     "output_type": "stream",
     "text": [
      "빈리스트도 허용함\n"
     ]
    }
   ],
   "source": [
    "test=[]\n",
    "\n",
    "if test != None:\n",
    "    print(\"빈리스트도 허용함\")\n",
    "elif not test:\n",
    "    print(\"뭐냐\")"
   ]
  },
  {
   "cell_type": "code",
   "execution_count": 27,
   "metadata": {},
   "outputs": [
    {
     "name": "stdout",
     "output_type": "stream",
     "text": [
      "값이 없는것이다\n"
     ]
    }
   ],
   "source": [
    "switch_handle(-1)\n",
    "\n",
    "elements=driver.find_elements(By.CSS_SELECTOR,\".sdp-review__article__list__review__content.js_reviewArticleContent\")\n",
    "if not elements:\n",
    "    print(\"값이 없는것이다\")\n",
    "\n",
    "for bonmon in elements:\n",
    "    print(bonmon.text)"
   ]
  }
 ],
 "metadata": {
  "kernelspec": {
   "display_name": "Python 3",
   "language": "python",
   "name": "python3"
  },
  "language_info": {
   "codemirror_mode": {
    "name": "ipython",
    "version": 3
   },
   "file_extension": ".py",
   "mimetype": "text/x-python",
   "name": "python",
   "nbconvert_exporter": "python",
   "pygments_lexer": "ipython3",
   "version": "3.10.10"
  },
  "orig_nbformat": 4
 },
 "nbformat": 4,
 "nbformat_minor": 2
}
