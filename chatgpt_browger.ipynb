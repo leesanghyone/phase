{
 "cells": [
  {
   "cell_type": "code",
   "execution_count": 1,
   "metadata": {},
   "outputs": [],
   "source": [
    "from undetective_selenium_na import *"
   ]
  },
  {
   "cell_type": "code",
   "execution_count": 2,
   "metadata": {},
   "outputs": [
    {
     "name": "stderr",
     "output_type": "stream",
     "text": [
      "c:\\Users\\leesanghyone\\AppData\\Local\\Programs\\Python\\Python310\\lib\\site-packages\\undetected_chromedriver\\__init__.py:338: UserWarning: using ChromeOptions.user_data_dir might stop working in future versions.use uc.Chrome(user_data_dir='/xyz/some/data') in case you need existing profile folder\n",
      "  warnings.warn(\n"
     ]
    }
   ],
   "source": [
    "driver= make_driver()"
   ]
  },
  {
   "cell_type": "code",
   "execution_count": 4,
   "metadata": {},
   "outputs": [],
   "source": [
    "driver.get(\"https://chat.openai.com/\")"
   ]
  },
  {
   "cell_type": "code",
   "execution_count": 7,
   "metadata": {},
   "outputs": [
    {
     "name": "stdout",
     "output_type": "stream",
     "text": [
      "서버측에서 로그인을 요청한다\n"
     ]
    }
   ],
   "source": [
    "로그인버튼=\"#__next > div.flex.h-full.w-full.flex-col.items-center.justify-center.bg-gray-50.dark\\:bg-gray-800 > div.w-96.flex.flex-col.flex-auto.justify-center.items-center > div.flex.flex-row.gap-3 > button:nth-child(1) > div\"\n",
    "#첫번쨰 로그인 화면\n",
    "if \"login\" in driver.current_url:\n",
    "    print(\"서버측에서 로그인을 요청한다\")\n",
    "    rand_click_cssVer(로그인버튼)"
   ]
  },
  {
   "cell_type": "code",
   "execution_count": 11,
   "metadata": {},
   "outputs": [
    {
     "name": "stdout",
     "output_type": "stream",
     "text": [
      "구글로그인을 클릭합니다\n"
     ]
    }
   ],
   "source": [
    "구글로그인버튼=\".cafd9c4d2.c2a2db47f.c1df4626c\"\n",
    "#두번째 구글 로그인 화면.\n",
    "if exist_element_check(구글로그인버튼):\n",
    "    rand_click_cssVer(구글로그인버튼)\n",
    "    print(\"구글로그인을 클릭합니다\")"
   ]
  },
  {
   "cell_type": "code",
   "execution_count": 14,
   "metadata": {},
   "outputs": [
    {
     "data": {
      "text/plain": [
       "True"
      ]
     },
     "execution_count": 14,
     "metadata": {},
     "output_type": "execute_result"
    }
   ],
   "source": [
    "#모달창이 나올경우\n",
    "next버튼=\"#radix-\\:r8\\: > div.p-4.sm\\:p-6.sm\\:pt-4 > div > div.flex.gap-4.mt-6 > button > div\"\n",
    "두번째next버튼=\"#radix-\\:r8\\: > div.p-4.sm\\:p-6.sm\\:pt-4 > div > div.flex.gap-4.mt-6 > button.btn.relative.btn-neutral.ml-auto > div\"\n",
    "세번쨰done버튼=\"#radix-\\:r8\\: > div.p-4.sm\\:p-6.sm\\:pt-4 > div > div.flex.gap-4.mt-6 > button.btn.relative.btn-neutral.ml-auto > div\"\n",
    "if exist_element_check(\"#radix-\\:r8\\:\"):\n",
    "    pass\n"
   ]
  },
  {
   "cell_type": "code",
   "execution_count": 29,
   "metadata": {},
   "outputs": [],
   "source": [
    "##해당 챗팅방으로 들어가기#\n",
    "def 채팅방가기(serch_room:str):\n",
    "    채팅방목록=\".flex-1.text-ellipsis.max-h-5.overflow-hidden.break-all.relative\"\n",
    "    elments=driver.find_elements(By.CSS_SELECTOR,채팅방목록)\n",
    "    for element in elments:\n",
    "        채팅방이름=element.text\n",
    "        if serch_room in 채팅방이름:\n",
    "            rand_click_elVer(element)\n",
    "            break\n",
    "\n",
    "채팅방가기(\"셀레니움\")"
   ]
  },
  {
   "cell_type": "code",
   "execution_count": 65,
   "metadata": {},
   "outputs": [
    {
     "data": {
      "text/plain": [
       "'네이버에 접속하는 방법에 대해서 요청하셨군요. 아래는 네이버에 접속하는 방법을 요약해 드리겠습니다:\\n네이버 웹사이트 방문: 웹 브라우저를 열고 주소창에 \"www.naver.com\"을 입력하여 네이버 웹사이트로 직접 접속할 수 있습니다.\\n네이버 검색을 통한 접속: 웹 브라우저에서 네이버를 검색하거나 검색 엔진 주소창에 \"네이버\"를 입력하여 검색 결과 중 네이버 웹사이트로 이동할 수 있습니다.\\n네이버 앱을 이용한 접속: 스마트폰이나 태블릿과 같은 모바일 기기에서는 네이버 앱을 설치하고 해당 앱을 실행하여 네이버에 접속할 수 있습니다. 앱스토어(Android) 또는 애플 앱스토어(iOS)에서 \"네이버\"를 검색하여 앱을 찾고, 설치한 후 앱을 실행하여 로그인하거나 네이버 서비스를 이용할 수 있습니다.\\n이렇게 네이버에 접속하는 방법을 요약해 보았습니다. 추가적인 도움이 필요하시면 언제든지 물어보세요!'"
      ]
     },
     "execution_count": 65,
     "metadata": {},
     "output_type": "execute_result"
    }
   ],
   "source": [
    "#마지막 답변 가지고 오기.\n",
    "def 답변가져오기():\n",
    "    elements=driver.find_elements(By.CSS_SELECTOR,\".group.w-full\")\n",
    "    답변=elements[-1].text\n",
    "    return 답변\n",
    "\n",
    "답변가져오기()"
   ]
  },
  {
   "cell_type": "code",
   "execution_count": 56,
   "metadata": {},
   "outputs": [],
   "source": [
    "#질문하기.\n",
    "def 질문하기(texts:str):\n",
    "    css_selector=\"#prompt-textarea\"\n",
    "    rand_click_cssVer(\".flex.flex-col.w-full.py-2\")\n",
    "    element_typer(css_selector,texts)\n",
    "    driver.find_element(By.CSS_SELECTOR,css_selector).send_keys(Keys.ENTER)\n",
    "질문하기(\"안녕?\")"
   ]
  },
  {
   "cell_type": "code",
   "execution_count": 66,
   "metadata": {},
   "outputs": [],
   "source": [
    "driver.refresh()"
   ]
  },
  {
   "cell_type": "code",
   "execution_count": null,
   "metadata": {},
   "outputs": [],
   "source": [
    "#네이버 리뷰 클래스.\n",
    "\"div.YEtwtZFLDz>span._3QDEeS6NLn\""
   ]
  }
 ],
 "metadata": {
  "kernelspec": {
   "display_name": "Python 3",
   "language": "python",
   "name": "python3"
  },
  "language_info": {
   "codemirror_mode": {
    "name": "ipython",
    "version": 3
   },
   "file_extension": ".py",
   "mimetype": "text/x-python",
   "name": "python",
   "nbconvert_exporter": "python",
   "pygments_lexer": "ipython3",
   "version": "3.10.10"
  },
  "orig_nbformat": 4
 },
 "nbformat": 4,
 "nbformat_minor": 2
}
