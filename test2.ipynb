{
 "cells": [
  {
   "cell_type": "code",
   "execution_count": 3,
   "metadata": {},
   "outputs": [
    {
     "name": "stdout",
     "output_type": "stream",
     "text": [
      "[1, 2, 4, 3, 5]\n"
     ]
    }
   ],
   "source": [
    "def swap_elements(lst, index1, index2):\n",
    "    if not (0 <= index1 < len(lst)) or not (0 <= index2 < len(lst)):\n",
    "        raise ValueError(\"인덱스가 리스트의 범위를 벗어났습니다.\")\n",
    "\n",
    "    lst[index1], lst[index2] = lst[index2], lst[index1]\n",
    "\n",
    "# 예제\n",
    "my_list = [1, 2, 3, 4, 5]\n",
    "swap_elements(my_list, 2, 3)\n",
    "print(my_list)  # 출력: [1, 4, 3, 2, 5]\n"
   ]
  },
  {
   "cell_type": "code",
   "execution_count": null,
   "metadata": {},
   "outputs": [],
   "source": [
    "def swap_elements(lst, index1, index2):\n",
    "    if not (0 <= index1 < len(lst)) or not (0 <= index2 < len(lst)):\n",
    "        raise ValueError(\"인덱스가 리스트의 범위를 벗어났습니다.\")\n",
    "    lst[index1], lst[index2] = lst[index2], lst[index1]\n"
   ]
  },
  {
   "cell_type": "code",
   "execution_count": 5,
   "metadata": {},
   "outputs": [
    {
     "name": "stdout",
     "output_type": "stream",
     "text": [
      "성공\n"
     ]
    }
   ],
   "source": [
    "a=12\n",
    "if (0<=a<30):\n",
    "    print(\"성공\")\n",
    "else:\n",
    "    print(\"실패\")"
   ]
  },
  {
   "cell_type": "code",
   "execution_count": 15,
   "metadata": {},
   "outputs": [
    {
     "name": "stdout",
     "output_type": "stream",
     "text": [
      "15\n",
      "38\n",
      "38\n"
     ]
    }
   ],
   "source": [
    "a=15\n",
    "def test1():\n",
    "    print(a)\n",
    "    \n",
    "def test2():\n",
    "    global a\n",
    "    a=a+23\n",
    "    print(a)\n",
    "\n",
    "test1()\n",
    "test2()\n",
    "print(a)"
   ]
  },
  {
   "cell_type": "code",
   "execution_count": 3,
   "metadata": {},
   "outputs": [
    {
     "name": "stdout",
     "output_type": "stream",
     "text": [
      "<threading.Event object at 0x000001D652D90700>\n",
      "1\n",
      "None\n",
      "쓰레드 중지\n"
     ]
    }
   ],
   "source": [
    "import threading\n",
    "import time\n",
    "\n",
    "def my_func(stop_event):\n",
    "    count = 0\n",
    "    while not stop_event.is_set():\n",
    "        count += 1\n",
    "        print(count)\n",
    "        time.sleep(1)\n",
    "\n",
    "# 중지 이벤트 생성\n",
    "stop_event = threading.Event()\n",
    "\n",
    "# 쓰레드 생성\n",
    "t = threading.Thread(target=my_func, args=(stop_event,))\n",
    "print(stop_event)\n",
    "# 쓰레드 시작\n",
    "t.start()\n",
    "\n",
    "# 5초 후 쓰레드 중지\n",
    "print(stop_event.set())\n",
    "time.sleep(5)\n",
    "stop_event.set()\n",
    "print(\"쓰레드 중지\")\n"
   ]
  },
  {
   "cell_type": "code",
   "execution_count": 4,
   "metadata": {},
   "outputs": [
    {
     "name": "stdout",
     "output_type": "stream",
     "text": [
      "<threading.Event object at 0x0000026990231480>\n",
      "False\n",
      "True\n"
     ]
    }
   ],
   "source": [
    "import threading\n",
    "import time\n",
    "\n",
    "stop_event = threading.Event()\n",
    "print(stop_event)\n",
    "print(stop_event.is_set())\n",
    "\n",
    "stop_event.set()\n",
    "print(stop_event.is_set())"
   ]
  },
  {
   "cell_type": "code",
   "execution_count": 7,
   "metadata": {},
   "outputs": [
    {
     "name": "stdout",
     "output_type": "stream",
     "text": [
      "1 2 3\n"
     ]
    }
   ],
   "source": [
    "test123_123=\"123\"\n"
   ]
  },
  {
   "cell_type": "code",
   "execution_count": 1,
   "metadata": {},
   "outputs": [
    {
     "name": "stdout",
     "output_type": "stream",
     "text": [
      "1\n",
      "2\n",
      "3\n",
      "4\n",
      "5\n"
     ]
    }
   ],
   "source": [
    "import threading\n",
    "import time\n",
    "\n",
    "def my_func(stop):\n",
    "    count = 0\n",
    "    while not stop.is_set():\n",
    "        count += 1\n",
    "        print(count)\n",
    "        time.sleep(1)\n",
    "stop=threading.Event()\n",
    "t=threading.Thread(target=my_func,args=(stop,))\n",
    "t.start()\n",
    "time.sleep(5)\n",
    "stop.set()\n",
    "\n",
    "#무제한에 조건을 건다. \n",
    "#쓰레드 이벤트로 한다.\n",
    "#트루로만들어서, 제한을 걸 수 있다."
   ]
  },
  {
   "cell_type": "code",
   "execution_count": 5,
   "metadata": {},
   "outputs": [
    {
     "name": "stdout",
     "output_type": "stream",
     "text": [
      "{'콜라': '사이다'}\n"
     ]
    }
   ],
   "source": [
    "miniwaitlist=None\n",
    "\n",
    "miniwaitlist={}\n",
    "miniwaitlist[\"콜라\"]=\"사이다\"\n",
    "\n",
    "print(miniwaitlist)"
   ]
  },
  {
   "cell_type": "code",
   "execution_count": 15,
   "metadata": {},
   "outputs": [
    {
     "name": "stdout",
     "output_type": "stream",
     "text": [
      "50\n",
      "1\n",
      "50\n",
      "50\n"
     ]
    }
   ],
   "source": [
    "class test1:\n",
    "    def __init__(self):\n",
    "        self.a=12\n",
    "\n",
    "    def inputdata(self,data):\n",
    "        global waitlist\n",
    "        waitlist=data\n",
    "        print(waitlist)\n",
    "\n",
    "    def test2(self):\n",
    "        waitlist=1\n",
    "        print(waitlist)\n",
    "    def test3(self):\n",
    "        print(waitlist)\n",
    "\n",
    "\n",
    "테스트용=test1()\n",
    "테스트용.inputdata(50)\n",
    "테스트용.test2()\n",
    "테스트용.test3()\n",
    "print(waitlist)\n",
    "   \n"
   ]
  }
 ],
 "metadata": {
  "kernelspec": {
   "display_name": "Python 3",
   "language": "python",
   "name": "python3"
  },
  "language_info": {
   "codemirror_mode": {
    "name": "ipython",
    "version": 3
   },
   "file_extension": ".py",
   "mimetype": "text/x-python",
   "name": "python",
   "nbconvert_exporter": "python",
   "pygments_lexer": "ipython3",
   "version": "3.10.10"
  },
  "orig_nbformat": 4
 },
 "nbformat": 4,
 "nbformat_minor": 2
}
