{
 "cells": [
  {
   "cell_type": "code",
   "execution_count": 3,
   "metadata": {},
   "outputs": [
    {
     "name": "stdout",
     "output_type": "stream",
     "text": [
      "[1, 2, 4, 3, 5]\n"
     ]
    }
   ],
   "source": [
    "def swap_elements(lst, index1, index2):\n",
    "    if not (0 <= index1 < len(lst)) or not (0 <= index2 < len(lst)):\n",
    "        raise ValueError(\"인덱스가 리스트의 범위를 벗어났습니다.\")\n",
    "\n",
    "    lst[index1], lst[index2] = lst[index2], lst[index1]\n",
    "\n",
    "# 예제\n",
    "my_list = [1, 2, 3, 4, 5]\n",
    "swap_elements(my_list, 2, 3)\n",
    "print(my_list)  # 출력: [1, 4, 3, 2, 5]\n"
   ]
  },
  {
   "cell_type": "code",
   "execution_count": null,
   "metadata": {},
   "outputs": [],
   "source": [
    "def swap_elements(lst, index1, index2):\n",
    "    if not (0 <= index1 < len(lst)) or not (0 <= index2 < len(lst)):\n",
    "        raise ValueError(\"인덱스가 리스트의 범위를 벗어났습니다.\")\n",
    "    lst[index1], lst[index2] = lst[index2], lst[index1]\n"
   ]
  },
  {
   "cell_type": "code",
   "execution_count": 5,
   "metadata": {},
   "outputs": [
    {
     "name": "stdout",
     "output_type": "stream",
     "text": [
      "성공\n"
     ]
    }
   ],
   "source": [
    "a=12\n",
    "if (0<=a<30):\n",
    "    print(\"성공\")\n",
    "else:\n",
    "    print(\"실패\")"
   ]
  },
  {
   "cell_type": "code",
   "execution_count": 15,
   "metadata": {},
   "outputs": [
    {
     "name": "stdout",
     "output_type": "stream",
     "text": [
      "15\n",
      "38\n",
      "38\n"
     ]
    }
   ],
   "source": [
    "a=15\n",
    "def test1():\n",
    "    print(a)\n",
    "    \n",
    "def test2():\n",
    "    global a\n",
    "    a=a+23\n",
    "    print(a)\n",
    "\n",
    "test1()\n",
    "test2()\n",
    "print(a)"
   ]
  },
  {
   "cell_type": "code",
   "execution_count": 3,
   "metadata": {},
   "outputs": [
    {
     "name": "stdout",
     "output_type": "stream",
     "text": [
      "<threading.Event object at 0x000001D652D90700>\n",
      "1\n",
      "None\n",
      "쓰레드 중지\n"
     ]
    }
   ],
   "source": [
    "import threading\n",
    "import time\n",
    "\n",
    "def my_func(stop_event):\n",
    "    count = 0\n",
    "    while not stop_event.is_set():\n",
    "        count += 1\n",
    "        print(count)\n",
    "        time.sleep(1)\n",
    "\n",
    "# 중지 이벤트 생성\n",
    "stop_event = threading.Event()\n",
    "\n",
    "# 쓰레드 생성\n",
    "t = threading.Thread(target=my_func, args=(stop_event,))\n",
    "print(stop_event)\n",
    "# 쓰레드 시작\n",
    "t.start()\n",
    "\n",
    "# 5초 후 쓰레드 중지\n",
    "print(stop_event.set())\n",
    "time.sleep(5)\n",
    "stop_event.set()\n",
    "print(\"쓰레드 중지\")\n"
   ]
  },
  {
   "cell_type": "code",
   "execution_count": 4,
   "metadata": {},
   "outputs": [
    {
     "name": "stdout",
     "output_type": "stream",
     "text": [
      "<threading.Event object at 0x0000026990231480>\n",
      "False\n",
      "True\n"
     ]
    }
   ],
   "source": [
    "import threading\n",
    "import time\n",
    "\n",
    "stop_event = threading.Event()\n",
    "print(stop_event)\n",
    "print(stop_event.is_set())\n",
    "\n",
    "stop_event.set()\n",
    "print(stop_event.is_set())"
   ]
  },
  {
   "cell_type": "code",
   "execution_count": 6,
   "metadata": {},
   "outputs": [
    {
     "ename": "TypeError",
     "evalue": "can only concatenate str (not \"int\") to str",
     "output_type": "error",
     "traceback": [
      "\u001b[1;31m---------------------------------------------------------------------------\u001b[0m",
      "\u001b[1;31mTypeError\u001b[0m                                 Traceback (most recent call last)",
      "Cell \u001b[1;32mIn[6], line 4\u001b[0m\n\u001b[0;32m      1\u001b[0m \u001b[39mdef\u001b[39;00m \u001b[39madd_numbers\u001b[39m(a: \u001b[39mint\u001b[39m, b: \u001b[39mint\u001b[39m)\u001b[39m-\u001b[39m\u001b[39m>\u001b[39m\u001b[39mstr\u001b[39m:\n\u001b[0;32m      2\u001b[0m     \u001b[39mreturn\u001b[39;00m a \u001b[39m+\u001b[39m b\n\u001b[1;32m----> 4\u001b[0m \u001b[39mprint\u001b[39m(\u001b[39mtype\u001b[39m(add_numbers(\u001b[39m\"\u001b[39;49m\u001b[39m10\u001b[39;49m\u001b[39m\"\u001b[39;49m, \u001b[39m20\u001b[39;49m)))\n",
      "Cell \u001b[1;32mIn[6], line 2\u001b[0m, in \u001b[0;36madd_numbers\u001b[1;34m(a, b)\u001b[0m\n\u001b[0;32m      1\u001b[0m \u001b[39mdef\u001b[39;00m \u001b[39madd_numbers\u001b[39m(a: \u001b[39mint\u001b[39m, b: \u001b[39mint\u001b[39m)\u001b[39m-\u001b[39m\u001b[39m>\u001b[39m\u001b[39mstr\u001b[39m:\n\u001b[1;32m----> 2\u001b[0m     \u001b[39mreturn\u001b[39;00m a \u001b[39m+\u001b[39;49m b\n",
      "\u001b[1;31mTypeError\u001b[0m: can only concatenate str (not \"int\") to str"
     ]
    }
   ],
   "source": [
    "def add_numbers(a: int, b: int)->str:\n",
    "    return a + b\n",
    "\n",
    "print(type(add_numbers(\"10\", 20)))"
   ]
  },
  {
   "cell_type": "code",
   "execution_count": 3,
   "metadata": {},
   "outputs": [
    {
     "name": "stdout",
     "output_type": "stream",
     "text": [
      "[1, 2, 3, 4, 5]\n"
     ]
    }
   ],
   "source": [
    "import random\n",
    "\n",
    "list1 = [1, 2, 3, 4, 5]\n",
    "random.shuffle(list1)\n",
    "\n",
    "print(list1)"
   ]
  },
  {
   "cell_type": "code",
   "execution_count": 1,
   "metadata": {},
   "outputs": [
    {
     "name": "stdout",
     "output_type": "stream",
     "text": [
      "1\n",
      "2\n",
      "3\n",
      "4\n",
      "5\n"
     ]
    }
   ],
   "source": [
    "import threading\n",
    "import time\n",
    "\n",
    "def my_func(stop):\n",
    "    count = 0\n",
    "    while not stop.is_set():\n",
    "        count += 1\n",
    "        print(count)\n",
    "        time.sleep(1)\n",
    "stop=threading.Event()\n",
    "t=threading.Thread(target=my_func,args=(stop,))\n",
    "t.start()\n",
    "time.sleep(5)\n",
    "stop.set()\n",
    "\n",
    "#무제한에 조건을 건다. \n",
    "#쓰레드 이벤트로 한다.\n",
    "#트루로만들어서, 제한을 걸 수 있다."
   ]
  },
  {
   "cell_type": "code",
   "execution_count": 5,
   "metadata": {},
   "outputs": [
    {
     "name": "stdout",
     "output_type": "stream",
     "text": [
      "{'콜라': '사이다'}\n"
     ]
    }
   ],
   "source": [
    "miniwaitlist=None\n",
    "\n",
    "miniwaitlist={}\n",
    "miniwaitlist[\"콜라\"]=\"사이다\"\n",
    "\n",
    "print(miniwaitlist)"
   ]
  },
  {
   "cell_type": "code",
   "execution_count": 15,
   "metadata": {},
   "outputs": [
    {
     "name": "stdout",
     "output_type": "stream",
     "text": [
      "50\n",
      "1\n",
      "50\n",
      "50\n"
     ]
    }
   ],
   "source": [
    "class test1:\n",
    "    def __init__(self):\n",
    "        self.a=12\n",
    "\n",
    "    def inputdata(self,data):\n",
    "        global waitlist\n",
    "        waitlist=data\n",
    "        print(waitlist)\n",
    "\n",
    "    def test2(self):\n",
    "        waitlist=1\n",
    "        print(waitlist)\n",
    "    def test3(self):\n",
    "        print(waitlist)\n",
    "\n",
    "\n",
    "테스트용=test1()\n",
    "테스트용.inputdata(50)\n",
    "테스트용.test2()\n",
    "테스트용.test3()\n",
    "print(waitlist)\n",
    "   \n"
   ]
  },
  {
   "cell_type": "code",
   "execution_count": 3,
   "metadata": {},
   "outputs": [
    {
     "name": "stdout",
     "output_type": "stream",
     "text": [
      "2023-05-04 23:57:00\n"
     ]
    }
   ],
   "source": [
    "from datetime import datetime,timedelta\n",
    "waitlist=[{\"url\": \"https://copang.com\",\"작업시간\" : \"2023-05-04-23:42\",\"플랫폼\" : \"쿠팡\"},{\"url\": \"https://naver.com\",\"작업시간\" : \"2022-05-04-05:42\",\"플랫폼\" : \"네이버\"}]\n",
    "\n",
    "realtime=datetime.strptime(waitlist[0][\"작업시간\"], '%Y-%m-%d-%H:%M')\n",
    "plustime=timedelta(minutes=15)\n",
    "\n",
    "test1=realtime+plustime\n",
    "print(test1)\n",
    "\n"
   ]
  },
  {
   "cell_type": "code",
   "execution_count": 6,
   "metadata": {},
   "outputs": [
    {
     "name": "stdout",
     "output_type": "stream",
     "text": [
      "{'url': 'https://copang.com', '작업시간': '2023-05-09-04:46', '플랫폼': '쿠팡'}\n"
     ]
    }
   ],
   "source": [
    "waitlist=[{\"url\": \"https://copang.com\",\"작업시간\" : (datetime.now()+timedelta(minutes=15)).strftime('%Y-%m-%d-%H:%M'),\"플랫폼\" : \"쿠팡\"},{\"url\": \"https://naver.com\",\"작업시간\" : \"2023-05-09-04:20\",\"플랫폼\" : \"네이버\"}]\n",
    "\n",
    "print(waitlist.pop(0))"
   ]
  },
  {
   "cell_type": "code",
   "execution_count": 9,
   "metadata": {},
   "outputs": [],
   "source": [
    "waitlist=[]\n",
    "\n",
    "if not waitlist:\n",
    "    print(\"비었다\")"
   ]
  }
 ],
 "metadata": {
  "kernelspec": {
   "display_name": "Python 3",
   "language": "python",
   "name": "python3"
  },
  "language_info": {
   "codemirror_mode": {
    "name": "ipython",
    "version": 3
   },
   "file_extension": ".py",
   "mimetype": "text/x-python",
   "name": "python",
   "nbconvert_exporter": "python",
   "pygments_lexer": "ipython3",
   "version": "3.10.10"
  },
  "orig_nbformat": 4
 },
 "nbformat": 4,
 "nbformat_minor": 2
}
