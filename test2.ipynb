{
 "cells": [
  {
   "cell_type": "code",
   "execution_count": 3,
   "metadata": {},
   "outputs": [
    {
     "name": "stdout",
     "output_type": "stream",
     "text": [
      "[1, 2, 4, 3, 5]\n"
     ]
    }
   ],
   "source": [
    "def swap_elements(lst, index1, index2):\n",
    "    if not (0 <= index1 < len(lst)) or not (0 <= index2 < len(lst)):\n",
    "        raise ValueError(\"인덱스가 리스트의 범위를 벗어났습니다.\")\n",
    "\n",
    "    lst[index1], lst[index2] = lst[index2], lst[index1]\n",
    "\n",
    "# 예제\n",
    "my_list = [1, 2, 3, 4, 5]\n",
    "swap_elements(my_list, 2, 3)\n",
    "print(my_list)  # 출력: [1, 4, 3, 2, 5]\n"
   ]
  },
  {
   "cell_type": "code",
   "execution_count": null,
   "metadata": {},
   "outputs": [],
   "source": [
    "def swap_elements(lst, index1, index2):\n",
    "    if not (0 <= index1 < len(lst)) or not (0 <= index2 < len(lst)):\n",
    "        raise ValueError(\"인덱스가 리스트의 범위를 벗어났습니다.\")\n",
    "\n",
    "    lst[index1], lst[index2] = lst[index2], lst[index1]"
   ]
  },
  {
   "cell_type": "code",
   "execution_count": 5,
   "metadata": {},
   "outputs": [
    {
     "name": "stdout",
     "output_type": "stream",
     "text": [
      "성공\n"
     ]
    }
   ],
   "source": [
    "a=12\n",
    "if (0<=a<30):\n",
    "    print(\"성공\")\n",
    "else:\n",
    "    print(\"실패\")"
   ]
  }
 ],
 "metadata": {
  "kernelspec": {
   "display_name": "Python 3",
   "language": "python",
   "name": "python3"
  },
  "language_info": {
   "codemirror_mode": {
    "name": "ipython",
    "version": 3
   },
   "file_extension": ".py",
   "mimetype": "text/x-python",
   "name": "python",
   "nbconvert_exporter": "python",
   "pygments_lexer": "ipython3",
   "version": "3.10.10"
  },
  "orig_nbformat": 4
 },
 "nbformat": 4,
 "nbformat_minor": 2
}
