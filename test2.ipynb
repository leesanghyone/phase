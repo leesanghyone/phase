{
 "cells": [
  {
   "cell_type": "code",
   "execution_count": 3,
   "metadata": {},
   "outputs": [
    {
     "name": "stdout",
     "output_type": "stream",
     "text": [
      "[1, 2, 4, 3, 5]\n"
     ]
    }
   ],
   "source": [
    "def swap_elements(lst, index1, index2):\n",
    "    if not (0 <= index1 < len(lst)) or not (0 <= index2 < len(lst)):\n",
    "        raise ValueError(\"인덱스가 리스트의 범위를 벗어났습니다.\")\n",
    "\n",
    "    lst[index1], lst[index2] = lst[index2], lst[index1]\n",
    "\n",
    "# 예제\n",
    "my_list = [1, 2, 3, 4, 5]\n",
    "swap_elements(my_list, 2, 3)\n",
    "print(my_list)  # 출력: [1, 4, 3, 2, 5]\n"
   ]
  },
  {
   "cell_type": "code",
   "execution_count": null,
   "metadata": {},
   "outputs": [],
   "source": [
    "def swap_elements(lst, index1, index2):\n",
    "    if not (0 <= index1 < len(lst)) or not (0 <= index2 < len(lst)):\n",
    "        raise ValueError(\"인덱스가 리스트의 범위를 벗어났습니다.\")\n",
    "\n",
    "    lst[index1], lst[index2] = lst[index2], lst[index1]"
   ]
  },
  {
   "cell_type": "code",
   "execution_count": 5,
   "metadata": {},
   "outputs": [
    {
     "name": "stdout",
     "output_type": "stream",
     "text": [
      "성공\n"
     ]
    }
   ],
   "source": [
    "a=12\n",
    "if (0<=a<30):\n",
    "    print(\"성공\")\n",
    "else:\n",
    "    print(\"실패\")"
   ]
  },
  {
   "cell_type": "code",
   "execution_count": 15,
   "metadata": {},
   "outputs": [
    {
     "name": "stdout",
     "output_type": "stream",
     "text": [
      "15\n",
      "38\n",
      "38\n"
     ]
    }
   ],
   "source": [
    "a=15\n",
    "def test1():\n",
    "    print(a)\n",
    "    \n",
    "def test2():\n",
    "    global a\n",
    "    a=a+23\n",
    "    print(a)\n",
    "\n",
    "test1()\n",
    "test2()\n",
    "print(a)"
   ]
  },
  {
   "cell_type": "code",
   "execution_count": 15,
   "metadata": {},
   "outputs": [
    {
     "name": "stdout",
     "output_type": "stream",
     "text": [
      "50\n",
      "1\n",
      "50\n",
      "50\n"
     ]
    }
   ],
   "source": [
    "class test1:\n",
    "    def __init__(self):\n",
    "        self.a=12\n",
    "\n",
    "    def inputdata(self,data):\n",
    "        global waitlist\n",
    "        waitlist=data\n",
    "        print(waitlist)\n",
    "\n",
    "    def test2(self):\n",
    "        waitlist=1\n",
    "        print(waitlist)\n",
    "    def test3(self):\n",
    "        print(waitlist)\n",
    "\n",
    "\n",
    "테스트용=test1()\n",
    "테스트용.inputdata(50)\n",
    "테스트용.test2()\n",
    "테스트용.test3()\n",
    "print(waitlist)\n",
    "   \n"
   ]
  }
 ],
 "metadata": {
  "kernelspec": {
   "display_name": "Python 3",
   "language": "python",
   "name": "python3"
  },
  "language_info": {
   "codemirror_mode": {
    "name": "ipython",
    "version": 3
   },
   "file_extension": ".py",
   "mimetype": "text/x-python",
   "name": "python",
   "nbconvert_exporter": "python",
   "pygments_lexer": "ipython3",
   "version": "3.10.10"
  },
  "orig_nbformat": 4
 },
 "nbformat": 4,
 "nbformat_minor": 2
}
