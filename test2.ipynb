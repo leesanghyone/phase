{
 "cells": [
  {
   "cell_type": "code",
   "execution_count": 3,
   "metadata": {},
   "outputs": [
    {
     "name": "stdout",
     "output_type": "stream",
     "text": [
      "[1, 2, 4, 3, 5]\n"
     ]
    }
   ],
   "source": [
    "def swap_elements(lst, index1, index2):\n",
    "    if not (0 <= index1 < len(lst)) or not (0 <= index2 < len(lst)):\n",
    "        raise ValueError(\"인덱스가 리스트의 범위를 벗어났습니다.\")\n",
    "\n",
    "    lst[index1], lst[index2] = lst[index2], lst[index1]\n",
    "\n",
    "# 예제\n",
    "my_list = [1, 2, 3, 4, 5]\n",
    "swap_elements(my_list, 2, 3)\n",
    "print(my_list)  # 출력: [1, 4, 3, 2, 5]\n"
   ]
  },
  {
   "cell_type": "code",
   "execution_count": null,
   "metadata": {},
   "outputs": [],
   "source": [
    "def swap_elements(lst, index1, index2):\n",
    "    if not (0 <= index1 < len(lst)) or not (0 <= index2 < len(lst)):\n",
    "        raise ValueError(\"인덱스가 리스트의 범위를 벗어났습니다.\")\n",
    "    lst[index1], lst[index2] = lst[index2], lst[index1]\n"
   ]
  },
  {
   "cell_type": "code",
   "execution_count": 5,
   "metadata": {},
   "outputs": [
    {
     "name": "stdout",
     "output_type": "stream",
     "text": [
      "성공\n"
     ]
    }
   ],
   "source": [
    "a=12\n",
    "if (0<=a<30):\n",
    "    print(\"성공\")\n",
    "else:\n",
    "    print(\"실패\")"
   ]
  },
  {
   "cell_type": "code",
   "execution_count": 15,
   "metadata": {},
   "outputs": [
    {
     "name": "stdout",
     "output_type": "stream",
     "text": [
      "15\n",
      "38\n",
      "38\n"
     ]
    }
   ],
   "source": [
    "a=15\n",
    "def test1():\n",
    "    print(a)\n",
    "    \n",
    "def test2():\n",
    "    global a\n",
    "    a=a+23\n",
    "    print(a)\n",
    "\n",
    "test1()\n",
    "test2()\n",
    "print(a)"
   ]
  },
  {
   "cell_type": "code",
   "execution_count": 3,
   "metadata": {},
   "outputs": [
    {
     "name": "stdout",
     "output_type": "stream",
     "text": [
      "<threading.Event object at 0x000001D652D90700>\n",
      "1\n",
      "None\n",
      "쓰레드 중지\n"
     ]
    }
   ],
   "source": [
    "import threading\n",
    "import time\n",
    "\n",
    "def my_func(stop_event):\n",
    "    count = 0\n",
    "    while not stop_event.is_set():\n",
    "        count += 1\n",
    "        print(count)\n",
    "        time.sleep(1)\n",
    "\n",
    "# 중지 이벤트 생성\n",
    "stop_event = threading.Event()\n",
    "\n",
    "# 쓰레드 생성\n",
    "t = threading.Thread(target=my_func, args=(stop_event,))\n",
    "print(stop_event)\n",
    "# 쓰레드 시작\n",
    "t.start()\n",
    "\n",
    "# 5초 후 쓰레드 중지\n",
    "print(stop_event.set())\n",
    "time.sleep(5)\n",
    "stop_event.set()\n",
    "print(\"쓰레드 중지\")\n"
   ]
  },
  {
   "cell_type": "code",
   "execution_count": 4,
   "metadata": {},
   "outputs": [
    {
     "name": "stdout",
     "output_type": "stream",
     "text": [
      "<threading.Event object at 0x0000026990231480>\n",
      "False\n",
      "True\n"
     ]
    }
   ],
   "source": [
    "import threading\n",
    "import time\n",
    "\n",
    "stop_event = threading.Event()\n",
    "print(stop_event)\n",
    "print(stop_event.is_set())\n",
    "\n",
    "stop_event.set()\n",
    "print(stop_event.is_set())"
   ]
  },
  {
   "cell_type": "code",
   "execution_count": 6,
   "metadata": {},
   "outputs": [
    {
     "ename": "TypeError",
     "evalue": "can only concatenate str (not \"int\") to str",
     "output_type": "error",
     "traceback": [
      "\u001b[1;31m---------------------------------------------------------------------------\u001b[0m",
      "\u001b[1;31mTypeError\u001b[0m                                 Traceback (most recent call last)",
      "Cell \u001b[1;32mIn[6], line 4\u001b[0m\n\u001b[0;32m      1\u001b[0m \u001b[39mdef\u001b[39;00m \u001b[39madd_numbers\u001b[39m(a: \u001b[39mint\u001b[39m, b: \u001b[39mint\u001b[39m)\u001b[39m-\u001b[39m\u001b[39m>\u001b[39m\u001b[39mstr\u001b[39m:\n\u001b[0;32m      2\u001b[0m     \u001b[39mreturn\u001b[39;00m a \u001b[39m+\u001b[39m b\n\u001b[1;32m----> 4\u001b[0m \u001b[39mprint\u001b[39m(\u001b[39mtype\u001b[39m(add_numbers(\u001b[39m\"\u001b[39;49m\u001b[39m10\u001b[39;49m\u001b[39m\"\u001b[39;49m, \u001b[39m20\u001b[39;49m)))\n",
      "Cell \u001b[1;32mIn[6], line 2\u001b[0m, in \u001b[0;36madd_numbers\u001b[1;34m(a, b)\u001b[0m\n\u001b[0;32m      1\u001b[0m \u001b[39mdef\u001b[39;00m \u001b[39madd_numbers\u001b[39m(a: \u001b[39mint\u001b[39m, b: \u001b[39mint\u001b[39m)\u001b[39m-\u001b[39m\u001b[39m>\u001b[39m\u001b[39mstr\u001b[39m:\n\u001b[1;32m----> 2\u001b[0m     \u001b[39mreturn\u001b[39;00m a \u001b[39m+\u001b[39;49m b\n",
      "\u001b[1;31mTypeError\u001b[0m: can only concatenate str (not \"int\") to str"
     ]
    }
   ],
   "source": [
    "def add_numbers(a: int, b: int)->str:\n",
    "    return a + b\n",
    "\n",
    "print(type(add_numbers(\"10\", 20)))"
   ]
  },
  {
   "cell_type": "code",
   "execution_count": 3,
   "metadata": {},
   "outputs": [
    {
     "name": "stdout",
     "output_type": "stream",
     "text": [
      "[1, 2, 3, 4, 5]\n"
     ]
    }
   ],
   "source": [
    "import random\n",
    "\n",
    "list1 = [1, 2, 3, 4, 5]\n",
    "random.shuffle(list1)\n",
    "\n",
    "print(list1)"
   ]
  },
  {
   "cell_type": "code",
   "execution_count": null,
   "metadata": {},
   "outputs": [],
   "source": [
    "def 소켓연결함수(self):\n",
    "    self.sockets = {\n",
    "        '박경희': {\"address\": (\"127.0.0.1\", 12000), \"socket\": None},\n",
    "        '임태원': {\"address\": (\"127.0.0.1\", 12001), \"socket\": None},\n",
    "        '이상준': {\"address\": (\"127.0.0.1\", 12002), \"socket\": None},\n",
    "        '이상현': {\"address\": (\"127.0.0.1\", 12003), \"socket\": None},\n",
    "    }\n",
    "\n",
    "    for key in self.sockets:\n",
    "        try:\n",
    "            self.sockets[key][\"socket\"] = soket_start(*self.sockets[key][\"address\"], self) # 연결 시도\n",
    "        except Exception as e:\n",
    "            print(f\"{key} 서버에 연결하지 못했습니다: {e}\")\n",
    "            self.sockets[key][\"socket\"] = None  # 연결 실패 시, None으로 설정\n",
    "\n",
    "# 연결 상태를 체크하고 재연결하는 함수\n",
    "def 연결상태체크및재연결(self):\n",
    "    for key in self.sockets:\n",
    "        if self.sockets[key][\"socket\"] is None:  # 연결이 안된 경우\n",
    "            try:\n",
    "                print(f\"{key} 서버에 재연결을 시도합니다.\")\n",
    "                self.sockets[key][\"socket\"] = soket_start(*self.sockets[key][\"address\"], self) # 재연결 시도\n",
    "            except Exception as e:\n",
    "                print(f\"{key} 서버에 재연결하지 못했습니다: {e}\")\n"
   ]
  },
  {
   "cell_type": "code",
   "execution_count": 15,
   "metadata": {},
   "outputs": [
    {
     "ename": "KeyError",
     "evalue": "'addres'",
     "output_type": "error",
     "traceback": [
      "\u001b[1;31m---------------------------------------------------------------------------\u001b[0m",
      "\u001b[1;31mKeyError\u001b[0m                                  Traceback (most recent call last)",
      "Cell \u001b[1;32mIn[15], line 12\u001b[0m\n\u001b[0;32m      4\u001b[0m sokets\u001b[39m=\u001b[39m{\n\u001b[0;32m      5\u001b[0m \u001b[39m\"\u001b[39m\u001b[39m박경희\u001b[39m\u001b[39m\"\u001b[39m : {\u001b[39m\"\u001b[39m\u001b[39madrres\u001b[39m\u001b[39m\"\u001b[39m: (\u001b[39m\"\u001b[39m\u001b[39m127.0.0.1\u001b[39m\u001b[39m\"\u001b[39m,\u001b[39m12000\u001b[39m),\u001b[39m\"\u001b[39m\u001b[39msocket\u001b[39m\u001b[39m\"\u001b[39m:\u001b[39mNone\u001b[39;00m},\n\u001b[0;32m      6\u001b[0m \u001b[39m\"\u001b[39m\u001b[39m임태원\u001b[39m\u001b[39m\"\u001b[39m : {\u001b[39m\"\u001b[39m\u001b[39madrres\u001b[39m\u001b[39m\"\u001b[39m: (\u001b[39m\"\u001b[39m\u001b[39m127.0.0.1\u001b[39m\u001b[39m\"\u001b[39m,\u001b[39m12001\u001b[39m) ,\u001b[39m\"\u001b[39m\u001b[39msocket\u001b[39m\u001b[39m\"\u001b[39m:\u001b[39mNone\u001b[39;00m},\n\u001b[0;32m      7\u001b[0m \u001b[39m\"\u001b[39m\u001b[39m이상준\u001b[39m\u001b[39m\"\u001b[39m : {\u001b[39m\"\u001b[39m\u001b[39maddres\u001b[39m\u001b[39m\"\u001b[39m: (\u001b[39m\"\u001b[39m\u001b[39m127.0.0.1\u001b[39m\u001b[39m\"\u001b[39m,\u001b[39m12002\u001b[39m),\u001b[39m\"\u001b[39m\u001b[39msocket\u001b[39m\u001b[39m\"\u001b[39m:\u001b[39mNone\u001b[39;00m},\n\u001b[0;32m      8\u001b[0m \u001b[39m\"\u001b[39m\u001b[39m이상현\u001b[39m\u001b[39m\"\u001b[39m : {\u001b[39m\"\u001b[39m\u001b[39maddres\u001b[39m\u001b[39m\"\u001b[39m: (\u001b[39m\"\u001b[39m\u001b[39m127.0.0.1\u001b[39m\u001b[39m\"\u001b[39m,\u001b[39m12003\u001b[39m),\u001b[39m\"\u001b[39m\u001b[39msocket\u001b[39m\u001b[39m\"\u001b[39m:\u001b[39mNone\u001b[39;00m},\n\u001b[0;32m      9\u001b[0m }\n\u001b[0;32m     11\u001b[0m \u001b[39mfor\u001b[39;00m key \u001b[39min\u001b[39;00m sokets:\n\u001b[1;32m---> 12\u001b[0m     sokets[key][\u001b[39m\"\u001b[39m\u001b[39msocket\u001b[39m\u001b[39m\"\u001b[39m]\u001b[39m=\u001b[39mhellow(\u001b[39m*\u001b[39msokets[key][\u001b[39m\"\u001b[39;49m\u001b[39maddres\u001b[39;49m\u001b[39m\"\u001b[39;49m])\n\u001b[0;32m     15\u001b[0m \u001b[39mprint\u001b[39m(sokets)\n",
      "\u001b[1;31mKeyError\u001b[0m: 'addres'"
     ]
    }
   ],
   "source": [
    "def hellow(a,b):\n",
    "    print(a)\n",
    "    print(b)\n",
    "sokets={\n",
    "\"박경희\" : {\"adrres\": (\"127.0.0.1\",12000),\"socket\":None},\n",
    "\"임태원\" : {\"adrres\": (\"127.0.0.1\",12001) ,\"socket\":None},\n",
    "\"이상준\" : {\"addres\": (\"127.0.0.1\",12002),\"socket\":None},\n",
    "\"이상현\" : {\"addres\": (\"127.0.0.1\",12003),\"socket\":None},\n",
    "}\n",
    "\n",
    "for key in sokets:\n",
    "    sokets[key][\"socket\"]=hellow(*sokets[key][\"addres\"])\n",
    "    \n",
    "\n",
    "print(sokets)"
   ]
  },
  {
   "cell_type": "code",
   "execution_count": 13,
   "metadata": {},
   "outputs": [
    {
     "name": "stdout",
     "output_type": "stream",
     "text": [
      "1\n",
      "2\n",
      "3\n",
      "4\n",
      "5\n"
     ]
    }
   ],
   "source": [
    "def 함수명(*args):\n",
    "    for arg in args:\n",
    "        print(arg)\n",
    "\n",
    "\n",
    "함수명(1,2,3,4,5)"
   ]
  },
  {
   "cell_type": "code",
   "execution_count": 1,
   "metadata": {},
   "outputs": [
    {
     "name": "stdout",
     "output_type": "stream",
     "text": [
      "1\n",
      "2\n",
      "3\n",
      "4\n",
      "5\n"
     ]
    }
   ],
   "source": [
    "import threading\n",
    "import time\n",
    "\n",
    "def my_func(stop):\n",
    "    count = 0\n",
    "    while not stop.is_set():\n",
    "        count += 1\n",
    "        print(count)\n",
    "        time.sleep(1)\n",
    "stop=threading.Event()\n",
    "t=threading.Thread(target=my_func,args=(stop,))\n",
    "t.start()\n",
    "time.sleep(5)\n",
    "stop.set()\n",
    "\n",
    "#무제한에 조건을 건다. \n",
    "#쓰레드 이벤트로 한다.\n",
    "#트루로만들어서, 제한을 걸 수 있다."
   ]
  },
  {
   "cell_type": "code",
   "execution_count": 5,
   "metadata": {},
   "outputs": [
    {
     "name": "stdout",
     "output_type": "stream",
     "text": [
      "{'콜라': '사이다'}\n"
     ]
    }
   ],
   "source": [
    "miniwaitlist=None\n",
    "\n",
    "miniwaitlist={}\n",
    "miniwaitlist[\"콜라\"]=\"사이다\"\n",
    "\n",
    "print(miniwaitlist)"
   ]
  },
  {
   "cell_type": "code",
   "execution_count": 15,
   "metadata": {},
   "outputs": [
    {
     "name": "stdout",
     "output_type": "stream",
     "text": [
      "50\n",
      "1\n",
      "50\n",
      "50\n"
     ]
    }
   ],
   "source": [
    "class test1:\n",
    "    def __init__(self):\n",
    "        self.a=12\n",
    "\n",
    "    def inputdata(self,data):\n",
    "        global waitlist\n",
    "        waitlist=data\n",
    "        print(waitlist)\n",
    "\n",
    "    def test2(self):\n",
    "        waitlist=1\n",
    "        print(waitlist)\n",
    "    def test3(self):\n",
    "        print(waitlist)\n",
    "\n",
    "\n",
    "테스트용=test1()\n",
    "테스트용.inputdata(50)\n",
    "테스트용.test2()\n",
    "테스트용.test3()\n",
    "print(waitlist)\n",
    "   \n"
   ]
  },
  {
   "cell_type": "code",
   "execution_count": 3,
   "metadata": {},
   "outputs": [
    {
     "name": "stdout",
     "output_type": "stream",
     "text": [
      "2023-05-04 23:57:00\n"
     ]
    }
   ],
   "source": [
    "from datetime import datetime,timedelta\n",
    "waitlist=[{\"url\": \"https://copang.com\",\"작업시간\" : \"2023-05-04-23:42\",\"플랫폼\" : \"쿠팡\"},{\"url\": \"https://naver.com\",\"작업시간\" : \"2022-05-04-05:42\",\"플랫폼\" : \"네이버\"}]\n",
    "\n",
    "realtime=datetime.strptime(waitlist[0][\"작업시간\"], '%Y-%m-%d-%H:%M')\n",
    "plustime=timedelta(minutes=15)\n",
    "\n",
    "test1=realtime+plustime\n",
    "print(test1)\n",
    "\n"
   ]
  },
  {
   "cell_type": "code",
   "execution_count": 6,
   "metadata": {},
   "outputs": [
    {
     "name": "stdout",
     "output_type": "stream",
     "text": [
      "{'url': 'https://copang.com', '작업시간': '2023-05-09-04:46', '플랫폼': '쿠팡'}\n"
     ]
    }
   ],
   "source": [
    "waitlist=[{\"url\": \"https://copang.com\",\"작업시간\" : (datetime.now()+timedelta(minutes=15)).strftime('%Y-%m-%d-%H:%M'),\"플랫폼\" : \"쿠팡\"},{\"url\": \"https://naver.com\",\"작업시간\" : \"2023-05-09-04:20\",\"플랫폼\" : \"네이버\"}]\n",
    "\n",
    "print(waitlist.pop(0))"
   ]
  },
  {
   "cell_type": "code",
   "execution_count": null,
   "metadata": {},
   "outputs": [],
   "source": []
  },
  {
   "cell_type": "code",
   "execution_count": 9,
   "metadata": {},
   "outputs": [],
   "source": [
    "waitlist=[]\n",
    "\n",
    "if not waitlist:\n",
    "    print(\"비었다\")"
   ]
  },
  {
   "cell_type": "code",
   "execution_count": 11,
   "metadata": {},
   "outputs": [],
   "source": [
    "import pynput\n",
    "\n",
    "\n",
    "def on_press(key):\n",
    "  # `Ctrl`+`Alt`+`P` 키가 눌리면 파이썬 코드를 실행합니다.\n",
    "  if key == pynput.keyboard.Key.ctrl_l + pynput.keyboard.Key.alt_l + pynput.keyboard.Key.p:\n",
    "    print(\"Hello, world!\")\n",
    "# 키보드 이벤트를 캡처합니다.\n",
    "listener = pynput.keyboard.Listener(on_press=on_press)\n",
    "\n",
    "# 키보드 이벤트를 듣기 시작합니다.\n",
    "listener.start()\n",
    "\n",
    "# # 키보드 이벤트를 듣기를 중지합니다.\n",
    "listener.stop()"
   ]
  },
  {
   "cell_type": "code",
   "execution_count": 1,
   "metadata": {},
   "outputs": [
    {
     "name": "stdout",
     "output_type": "stream",
     "text": [
      "Hello world!\n",
      "Hello world!\n",
      "Hello world!\n",
      "Hello world!\n",
      "Hello world!\n"
     ]
    }
   ],
   "source": [
    "\n",
    "from pynput.keyboard import Key, Listener\n",
    "\n",
    "def on_press(key):\n",
    "    if key == Key.space:\n",
    "        # 파이썬 코드가 실행됩니다.\n",
    "        print(\"Hello world!\")\n",
    "\n",
    "with Listener(on_press=on_press) as listener:\n",
    "    listener.join()"
   ]
  },
  {
   "cell_type": "code",
   "execution_count": null,
   "metadata": {},
   "outputs": [],
   "source": [
    "import pynput\n",
    "from pynput.keyboard import Key, Listener\n",
    "\n",
    "def on_press(key):\n",
    "    if key == Key.ctrl_l:\n",
    "        # 파이썬 코드가 실행됩니다.\n",
    "        print(\"Hello world!\")\n",
    "\n",
    "with Listener(on_press=on_press) as listener:\n",
    "    listener.join()"
   ]
  }
 ],
 "metadata": {
  "kernelspec": {
   "display_name": "Python 3",
   "language": "python",
   "name": "python3"
  },
  "language_info": {
   "codemirror_mode": {
    "name": "ipython",
    "version": 3
   },
   "file_extension": ".py",
   "mimetype": "text/x-python",
   "name": "python",
   "nbconvert_exporter": "python",
   "pygments_lexer": "ipython3",
   "version": "3.10.10"
  },
  "orig_nbformat": 4
 },
 "nbformat": 4,
 "nbformat_minor": 2
}
