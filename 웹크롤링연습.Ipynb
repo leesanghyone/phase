{
 "cells": [
  {
   "cell_type": "code",
   "execution_count": 3,
   "metadata": {},
   "outputs": [
    {
     "name": "stdout",
     "output_type": "stream",
     "text": [
      "안녕하세요\n"
     ]
    }
   ],
   "source": [
    "import time\n",
    "INITIALS = \"ㄱㄲㄴㄷㄸㄹㅁㅂㅃㅅㅆㅇㅈㅉㅊㅋㅌㅍㅎ\"\n",
    "MEDIALS = \"ㅏㅐㅑㅒㅓㅔㅕㅖㅗㅘㅙㅚㅛㅜㅝㅞㅟㅠㅡㅢㅣ\"\n",
    "FINALS = [\"\", \"ㄱ\", \"ㄲ\", \"ㄳ\", \"ㄴ\", \"ㄵ\", \"ㄶ\", \"ㄷ\", \"ㄹ\", \"ㄺ\", \"ㄻ\", \"ㄼ\", \"ㄽ\", \"ㄾ\", \"ㄿ\", \"ㅀ\", \"ㅁ\", \"ㅂ\", \"ㅄ\", \"ㅅ\", \"ㅆ\", \"ㅇ\", \"ㅈ\", \"ㅊ\", \"ㅋ\", \"ㅌ\", \"ㅍ\", \"ㅎ\"]\n",
    "\n",
    "def compose_hangul(chosung, jungseong, jongseong):\n",
    "    return chr(0xAC00 + (INITIALS.index(chosung) * 21 + MEDIALS.index(jungseong)) * 28 + FINALS.index(jongseong))\n",
    "\n",
    "def hangul_typing(input_chars):\n",
    "    result = \"\"\n",
    "    buffer = []\n",
    "\n",
    "    for char in input_chars:\n",
    "        if char in INITIALS:\n",
    "            if len(buffer) == 2:\n",
    "                result += compose_hangul(buffer[0], buffer[1], \"\")\n",
    "                buffer = [char]\n",
    "            else:\n",
    "                buffer.append(char)\n",
    "        elif char in MEDIALS:\n",
    "            if len(buffer) == 1:\n",
    "                buffer.append(char)\n",
    "            else:\n",
    "                result += \"\".join(buffer)\n",
    "                buffer = [char]\n",
    "        elif char in FINALS:\n",
    "            if len(buffer) == 2:\n",
    "                buffer.append(char)\n",
    "                result += compose_hangul(*buffer)\n",
    "                buffer = []\n",
    "            else:\n",
    "                result += \"\".join(buffer)\n",
    "                buffer = [char]\n",
    "        else:\n",
    "            result += \"\".join(buffer) + char\n",
    "            buffer = []\n",
    "\n",
    "    if buffer:\n",
    "        if len(buffer) == 2:\n",
    "            result += compose_hangul(buffer[0], buffer[1], \"\")\n",
    "        else:\n",
    "            result += \"\".join(buffer)\n",
    "\n",
    "    return result\n",
    "time.sleep(3)\n",
    "input_chars = \"안녕하세요\"\n",
    "print(hangul_typing(input_chars))\n"
   ]
  },
  {
   "cell_type": "code",
   "execution_count": 4,
   "metadata": {},
   "outputs": [],
   "source": [
    "import requests,time\n",
    "from bs4 import BeautifulSoup\n",
    "import pyautogui"
   ]
  },
  {
   "cell_type": "code",
   "execution_count": null,
   "metadata": {},
   "outputs": [],
   "source": [
    "response=requests.get(\"https://api.github.com\")\n",
    "html=response.text\n",
    "soup=BeautifulSoup()"
   ]
  },
  {
   "cell_type": "code",
   "execution_count": 5,
   "metadata": {},
   "outputs": [
    {
     "name": "stdout",
     "output_type": "stream",
     "text": [
      "==================링크================\n",
      " https://n.news.naver.com/mnews/article/025/0003274496?sid=102\n",
      "==================제목================\n",
      " \"충격, 3㎏ 빠졌어요\"…거짓말한 인스타 '언니들' 무더기 걸렸다\n",
      "==================본문================\n",
      " 인스타그램 등에서 식품과 화장품을 판매하면서 허위·과대 광고를 한 인플루언서들이 무더기 적발됐다. 사진 식약처\n",
      "인스타그램 등에서 식품과 화장품을 판매하면서 허위·과대 광고를 한 인플루언서들이 무더기 적발됐다.\n",
      "식품의약품안전처는 인스타그램, 페이스북 등 SNS에서 식품·화장품을 광고, 판매하는 인플루언서 84명 계정을 특별 단속한 결과, 54명의 계정에서 불법행위가 확인됐다고 20일 밝혔다.\n",
      "식약처는 적발된 계정들에 대해 신속하게 게시물 삭제와 차단을 요청하고 행정처분과 수사를 의뢰했다.\n",
      "이번 특별 단속은 최근 SNS에서 공동구매 등 방식으로 구매를 유도하는 행위가 증가함에 따라 소비자들의 피해를 예방하기 위해 지난달부터 실시됐다.\n",
      "인스타그램 등에서 식품과 화장품을 판매하면서 허위·과대 광고를 한 인플루언서들이 무더기 적발됐다. 사진 식약처\n",
      "우선 식품 점검 사례에서 체험 후기 등을 이용해 소비자를 현혹하는 인플루언서 44명 계정의 게시물 248건을 점검한 결과, 37명(42.5%) 계정에서 허위·과대 광고 온라인 게시물 178건(71.8%)을 적발됐다.\n",
      "체지방 감소와 관련 없는 일반식품을 광고하며 \"벌써 체중이 2kg 빠졌어요\"라고 하거나, 전후 사진을 비교한 게시물과 함께 \"식단 안 하고 양만 좀 줄였는데 3kg이 빠졌다\"며 소비자를 기만하는 광고를 올렸다.\n",
      "또 \"소화불편을 겪는 현대인들이 많아져 효소는 정말 필수템\"이라며 소화와 붓기 제거 등에 효과가 있는 것처럼 표현한 광고도 있다.\n",
      "\"이마가 봉긋하게 채워진다\" \"여드름 흉터가 없어졌다\" 등 일반 화장품을 의약품으로 오인하게 하거나 화장품의 범위를 벗어나는 표현으로 소비자가 잘못 인식할 우려가 있는 광고도 대거 적발됐다.\n",
      "인스타그램 등에서 식품과 화장품을 판매하면서 허위·과대 광고를 한 인플루언서들이 무더기 적발됐다. 사진 식약처\n",
      "식약처에 따르면 40명 계정의 온라인 게시물 135건을 점검한 결과 17명(42.5%) 계정에서 허위·과대 광고 게시물 54건(40%)이 적발됐다.\n",
      "식약처는 \"SNS에서는 다양한 정보를 자유롭게 얻을 수 있는 만큼 부당광고에 쉽게 노출될 수 있으므로, 소비자는 부당광고에 현혹되지 말도록 특히 주의해 피해를 방지해야 한다\"고 당부했다.\n",
      "==================링크================\n",
      " https://n.news.naver.com/mnews/article/003/0011814544?sid=104\n",
      "==================제목================\n",
      " \"초심 잃었다\" 광고 때문 인스타·틱톡 떠난 이용자…왜?\n",
      "==================본문================\n",
      " 기사내용 요약\n",
      "NYT, 지나친 광고 영상으로 이용자 피로감 호소\n",
      "\"SNS, 사회성 사라지고 더욱 기업화돼\" 비난\n",
      "특정 주제 관해 소통하는 소규모 SNS 성장 중\n",
      "[서울=뉴시스] 대형 소셜미디어가 지나치게 상업화돼 피로감을 느낀 이용자들이 소규모 소셜미디어로 떠나가고 있다고 19일(현지시간) 미국 뉴욕타임스(NYT)가 보도했다. 사진은 기사와 관련 없음. (사진=픽사베이)2023.04.20. *재판매 및 DB 금지\n",
      "[서울=뉴시스]김경문 인턴 기자 = 전 세계 이용자들과 소통하고 무료로 콘텐츠를 이용할 수 있어 성장했던 대형 소셜미디어에 광고로 인한 '피로감'을 호소하는 이용자들이 많아졌다. 최근 소셜미디어의 초심을 그리워하는 이용자들을 중심으로 '소규모 소셜미디어'로의 이동이 가시화되고 있다.\n",
      "19일(현지시간) 미국 뉴욕타임스(NYT)는 소비자 기술 전문가 브라이언 첸이 쓴 이같은 내용의 기고문 '소셜미디어의 미래는 덜 사회적이다'를 실었다.\n",
      "기고문에서 첸은 20년 전 페이스북을 처음 사용했을 때의 설렘을 말했다. 그는 \"대학 캠퍼스에서 학생들과 연락을 주고받을 때 페이스북을 사용했다\"며 \"페이스북으로 친구들이 아침으로 무엇을 먹었는지를 확인하는 등 폭발적인 인기를 끌었다\"고 과거를 회상했다.\n",
      "페이스북의 인기는 짧은 글을 공유하는 트위터로, 사진과 영상을 공유하는 인스타그램, 1분 이내의 짧은 영상을 올리는 틱톡 등으로 넘어갔다. 특히 사진과 영상 등 비주얼 콘텐츠를 올리는 인스타그램과 틱톡의 인기는 놀라울 정도다. 2023년 3월 기준 전 세계 인스타그램 월간 활성 이용자수는 약 14억 명, 틱톡은 약 10억 명이다.\n",
      "인스타그램, 틱톡과 같은 대형 소셜미디어의 이러한 인기에도 첸은 광고로 인한 '피로감'을 호소하는 이용자들이 떠나고 있다고 경고했다. 첸은 \"쭉 화면을 내려 SNS를 이용하다 보면 데이트 앱이나 주방 세제를 홍보하는 인플루언서들의 광고 영상들만 가득하다\"며 \"소셜미디어가 사람들과 소통하는 소셜(Social)성이 사라지고 점점 더 '기업화'되고 있다\"고 비난했다.\n",
      "이어 그는 \"가족과 친구들의 소식을 보기 위해 SNS를 켰지만 대신에 인플루언서가 광고하는 상품들의 소식만 보고 있다\"고 강조했다.\n",
      "소셜미디어의 과도한 이익 추구에 지친 이용자들의 엑소더스(탈출)은 페이스북·인스타그램 모회사 메타의 최고 경영자 마크 저커버그와 트위터의 창업자 잭 도시 등 소셜미디어의 거물들에게 몇 년 전부터 예측됐다.\n",
      "2019년 당시 마크 저커버그는 페이스북 안에서 가장 빠르게 성장하는 분야로 '소규모 그룹'의 온라인 커뮤니케이션을 들었다. 잭 도시도 2021년 '탈중앙화' 소셜 네트워크를 추진하기도 했다.\n",
      "실제로 특정 주제에 대해 소통하는 소규모 소셜미디어가 주류가 되고 있다.\n",
      "NYT는 자신의 직업적 성취와 커리어에 관해 이야기하고 싶은 이들은 세계 최대 비즈니스 플랫폼 '링크드인'으로 모이고, 온라인 친구들과 게임을 즐기며 대화를 나누는 게임 채팅 플랫폼 '디스코드' 등의 인기가 높아지고 있다고 강조했다．\n",
      "==================링크================\n",
      " https://n.news.naver.com/mnews/article/023/0003758416?sid=102\n",
      "==================제목================\n",
      " 집요한 인스타 팔로우 신청도 스토킹... 141회 보낸 20대女 벌금형\n",
      "==================본문================\n",
      " 연락하지 말라는 요구에도 비공개 인스타그램 계정에 일주일 동안 141차례에 걸쳐 팔로우를 요청한 20대 여성이 벌금형을 선고받았다. 팔로우 요청도 상대방의 의사에 반(反)해 정보통신망으로 글이나 그림을 전달하는 스토킹행위로 볼 수 있다는 판단이다.\n",
      "대전지법 청사 전경. /뉴스1\n",
      "18일 법조계에 따르면, 대전지법 형사7단독 유현식 판사는 스토킹처벌법 위반 혐의로 기소된 A(25)씨에게 벌금 700만원을 선고했다.\n",
      "A씨는 지난해 8~10월 자신이 다니던 스피닝 센터 여성 강사 B씨(27)에게 카카오톡 메시지를 총 22회 보내고, 비공개된 그의 인스타그램 계정에 141차례 팔로우를 신청하는 등 스토킹한 혐의로 기소됐다.\n",
      "B씨는 A씨에게 연락하지 말라고 요구했지만, A씨는 “답을 하든 안 하든 선생님 마음이다. 뭐라고는 하지 않겠다. 나름 애정 표현이고 그게 서툴러서 그렇게 나갔다” “기회를 달라”며 여러 차례 메시지를 보낸 것으로 조사됐다.\n",
      "A씨는 B씨에게 익명으로 “카카오톡도 차단당했을까봐 확인하는 것도 집착인가”라는 메시지도 보냈다고 한다. A씨는 해당 스피닝 센터를 2018년부터 다니면서 B씨를 향해 과도한 집착과 관심을 보였고 그 뒤 재등록을 거부당하자 이런 범행을 저지른 것으로 조사됐다.\n",
      "유 판사는 “해당 소셜미디어의 경우 계정의 공개 및 비공개 설정이 가능하고, 비공개할 경우 팔로우 신청이 오면 ‘팔로우를 요청했습니다’라는 문구와 함께 프로필 사진이 보여 스토킹 처벌법에 해당하는 글과 그림이 전달되는 것이 인정된다”고 했다.\n",
      "유 판사는 그러면서도 “충분히 피고인의 고의성이 있으나 범죄 처벌 전력이 없고 잠정 조치 이후 피해자에게 연락하지 않은 점 등을 고려했다”라고 양형 이유를 밝혔다.\n",
      "스토킹처벌법은 상대방의 의사에 반해 정당한 이유 없이 상대방에게 불안감이나 공포심을 일으키는 행위를 스토킹행위라고 규정한다. 직접 접근해 따라다니거나 주거지에서 기다리고 지켜보는 행위뿐만 아니라, 정보통신망을 이용해 물건이나 글이나 말, 부호, 음향, 그림을 보내는 것도 스토킹행위로 본다.\n",
      "==================링크================\n",
      " https://entertain.naver.com/read?oid=108&aid=0003146103\n",
      "==================제목================\n",
      " \"나만 다나카 인스타 팔로우\" 빈스, 서운함 토로→맞팔 성사\n",
      "==================본문================\n",
      " [스타뉴스 | 최혜진 기자]\n",
      "/사진=유튜브 나몰라패밀리 핫쇼\n",
      "코미디언 김경욱의 부캐릭터인 다나카가 프로듀서 겸 싱어송라이터 빈스의 인스타그램 계정을 팔로우했다.\n",
      "20일 기준 다나카는 빈스의 공식 계정을 팔로우한 상태다. 이로써 다나카의 인스타그램을 홀로 팔로우했다고 밝혔던 빈스는 다나카와 맞팔로우를 성사시켰다.\n",
      "지난달 유튜브 채널 '나몰라패밀리 핫쇼'에서는  빈스와 다나카의 노래 작업 과정이 담긴 영상이 게재됐다. 당시 빈스는 자신만이 다나카의 인스타그램 계정을 팔로우했다고 털어놨다.\n",
      "영상 속 빈스는 \"우리 벌써 만난 지 네 번째인데 주변 사람들한테 다나카상을 만났다고 해도 안 믿어준다. 나만 인스타그램을 팔로우해서 다들 '왜 너만 팔로우했냐'며 안 믿어 주더라\"고 말했다.\n",
      "이를 들은 다나카는 급히 휴대폰을 꺼내 자신의 인스타그램을 확인했다. 이에 빈스는 \"하지마, 하지마. 원하지 않는다\"며 서운한 모습을 보였다.\n",
      "한편 김경욱은 2001 SBS 6기 공채 개그맨으로 데뷔했다. 현재 부캐릭터인 다나카로 활동하며 많은 사랑을 받고 있다.  빈스는 가수 지드래곤, 태양, 블랙핑크, 리사, 전소미 등과 음악 작업을 함께했다. 또한 2019년에는 싱글 '맨날'을 발매했다.\n",
      "두 사람은 지난 4일 컬래버레이션 곡인 '지명해줄래'를 발매했다. 다나카가 그동안 갈망해왔던 R&B 장르의 곡으로. 빈스가 작사, 작곡에 참여하고 피처링, 뮤직비디오에도 출연했다.\n",
      "==================링크================\n",
      " https://n.news.naver.com/mnews/article/021/0002567304?sid=102\n",
      "==================제목================\n",
      " 비공개 인스타 계정 집요한 팔로우 신청...법원 “스토킹”\n",
      "==================본문================\n",
      " 대전지법 전경. 법원 홈페이지\n",
      "“프로필 사진과 메시지 떠 글·그림 전달로 인정돼”…벌금 700만원\n",
      "연락하지 말라는 요구를 받았는데도 비공개 인스타그램 계정에 일주일 동안 141차례에 걸쳐 팔로우를 요청한 20대 여성이 벌금형을 선고받았다. 팔로우 요청도 상대방의 의사에 반(反)해 정보통신망으로 글이나 그림을 전달하는 스토킹행위로 볼 수 있다는 게 법원의 판단이다.\n",
      "대전지법 형사7단독 유현식 판사는 스토킹 범죄의 처벌 등에 관한 법률 위반 혐의로 기소된 A(25·여) 씨에게 벌금 700만 원을 선고했다고 18일 밝혔다.\n",
      "A 씨는 지난해 8~10월 자신이 다니던 스피닝 센터 강사 B(27·여) 씨에게 카카오톡 메시지를 총 22회 보내고, 비공개된 인스타그램 계정에 141차례 팔로우를 신청하는 등 스토킹한 혐의로 기소됐다. A 씨는 B 씨가 연락하지 말라는 요구를 했는데도 이를 무시하고 카톡 등을 보냈다. A 씨는 “답을 하든 안 하든 선생님 마음이다. 뭐라고는 하지 않겠다. 나름 애정 표현이고 그게 서툴러서 그렇게 나갔다” “기회를 달라”는 등 수차례 메시지를 보냈다. A 씨는 가명을 사용해서도 수차례 SNS 메시지를 보내기도 했다.\n",
      "경찰의 경고장을 받은 후에도 A 씨는 같은 해 10월 14일부터 20일까지 비공개인 B씨의 인스타그램 계정을 141회에 걸쳐 팔로우 신청했다. A 씨는 2018년부터 지난해까지 4년 동안 B 씨의 운동 센터 회원이었으며 B 씨에게 과도한 관심과 집착을 보여 지난해 8월 재등록을 거부당하자 범행을 저지른 것으로 알려졌다.\n",
      "재판부는 “해당 SNS의 경우 계정의 공개 및 비공개 설정이 가능하고 비공개할 경우 팔로우 신청이 오면 ‘팔로우를 요청했습니다’라는 문구와 함께 프로필 사진이 보여 스토킹 처벌법에 해당하는 글과 그림이 전달되는 것이 인정된다”라며 “충분히 피고인의 고의성이 있으나 범죄 처벌 전력이 없고 잠정 조치 이후 피해자에게 연락하지 않은 점 등을 고려했다”라고 판시했다.\n",
      "==================링크================\n",
      " https://n.news.naver.com/mnews/article/092/0002289315?sid=105\n",
      "==================제목================\n",
      " 인스타그램 프로필에 링크 5개 등록 가능\n",
      "==================본문================\n",
      " 인스타그램 프로필에 최대 5개의 링크를 추가할 수 있게 됐다.\n",
      "18일(현지시간) 마크 저커버그 메타 최고경영자(CEO)는 자신의 인스타그램 방송 채널에서 이같은 소식을 알렸다.\n",
      "저커버그 CEO는 \"이용자들이 가장 많이 요청한 기능 중 하나다\"며 이날부터 프로필에서 여러 사이트를 연결할 수 있다고 설명했다.\n",
      "인스타그램\n",
      "그동안 인스타그램 이용자들은 자신의 프로필에 한 개의 링크만 추가할 수 있었다. 때문에 비즈니스 용도로 인스타그램을 사용할 때, 링크트리와 같은 링크 연결 서비스를 이용해야 했다.\n",
      "인스타그램 프로필에서 링크를 추가하는 방법은 간단하다. 프로필 편집으로 들어가 외부 링크 추가를 누르고 URL과 제목을 입력하면 된다.\n"
     ]
    }
   ],
   "source": [
    "keyword=pyautogui.prompt(\"검색어를 입력해주세요.\")\n",
    "main_url=f\"https://search.naver.com/search.naver?where=news&ie=utf8&sm=nws_hty&query={keyword}\"\n",
    "response=requests.get(main_url,headers={\"User-agent\":\"mozilla/5.0\"})\n",
    "html=response.text\n",
    "soup=BeautifulSoup(html,\"html.parser\")\n",
    "\n",
    "news=soup.select(\"div.info_group\")\n",
    "\n",
    "for new in news:\n",
    "    top_titles=new.select(\"a\")\n",
    "    if len(top_titles) >= 2:\n",
    "        url=top_titles[1].attrs[\"href\"]\n",
    "        # print(url)\n",
    "\n",
    "        #두번째 내부로 접속하는 것이다.\n",
    "        response=requests.get(url=url,headers={\"User-agent\":\"mozilla/5.0\"})\n",
    "        html=response.text\n",
    "        soup=BeautifulSoup(html,\"html.parser\")\n",
    "\n",
    "        \n",
    "        #연예뉴스인경우.(중요) # response.url 리디렉션의 결과값을 보여준다.\n",
    "        if \"entertain\" in response.url:\n",
    "            title=soup.select_one(\".end_tit\")\n",
    "            content=soup.select_one(\"div#articeBody\")\n",
    "\n",
    "        #스포츠 뉴스인경우.\n",
    "        elif \"sports\" in response.url:\n",
    "            title=soup.select_one(\"h4.title\")\n",
    "            content=soup.select_one(\"div.news_end\")\n",
    "\n",
    "            #불필요한 내용 제거하기 (div,p) 태그를 제거하면 끝.\n",
    "            unuse_divs=[\"div\",\"p\",\"ul\"]\n",
    "            for divs in unuse_divs:\n",
    "                unuse_div=content.select(divs) # content점을 주의해라.\n",
    "                for unusediv in unuse_div:\n",
    "                    unusediv.decompose()\n",
    "\n",
    "        #일반적인 경우다.\n",
    "        else:\n",
    "            title=soup.select_one(\".media_end_head_title\")\n",
    "            content=soup.select_one(\"div#newsct_article\")\n",
    "\n",
    "        print(\"==================링크================\\n\",response.url.strip())\n",
    "        print(\"==================제목================\\n\",title.text.strip())\n",
    "        print(\"==================본문================\\n\",content.get_text(\"\\n\",\"<br>\").strip())\n",
    "        time.sleep(0.5)\n"
   ]
  },
  {
   "cell_type": "code",
   "execution_count": 43,
   "metadata": {},
   "outputs": [
    {
     "name": "stdout",
     "output_type": "stream",
     "text": [
      "올해 20개 이상 모델 인증 획득 목표\n",
      "\n",
      "\n",
      "\n",
      "2023년형 삼성 Neo QLED 신제품 6개 모델이 영국 ‘카본 트러스트(Carbon Trust)’로부터 ‘탄소 발자국-탄소저감인증(Reducing CO2)’을 받았다. 사진은 Neo QLED 탄소발자국 인증 마크 이미지 (삼성전자 제공) 2023.4.16/뉴스1 ⓒ News1 송원영 기자(서울=뉴스1) 강태우 기자 = 삼성전자(005930)는 Neo QLED 신제품 6개 모델이 영국 '카본 트러스트'(Carbon Trust)로부터 '탄소 발자국-탄소저감인증'(Reducing CO2)을 받았다고 16일 밝혔다. 카본 트러스트는 영국 정부가 기후 변화 대응과 온실가스 감축을 목적으로 설립한 인증 기관이다. 제품 생산부터 폐기까지 전 과정에서 발생하는 온실가스 배출량을 국제 기준에 따라 평가해 탄소 발자국 인증을 수여한다. 특히 탄소저감인증은 같은 제품 모델의 전년 대비 탄소 발생량이 줄었을 경우에만 수여된다. 삼성전자는 지난 2021년 Neo QLED 4K TV로 처음으로 탄소발자국 인증을 받았다. 지난해는 QLED 등 11개 TV 모델과 모니터·사이니지 5개 모델 등 총 16개 모델이 인증 대상으로 선정됐다. 삼성전자는 OLED를 포함해 올해 총 20개 이상 모델의 탄소 발자국 인증 획득을 목표로 하고 있다. 용석우 삼성전자 영상디스플레이사업부 부사장은 \"삼성전자는 글로벌 TV 시장을 견인하는 기술적 혁신을 넘어, 제품의 지속 가능성을 위해 꾸준한 노력을 기울이고 있다\"며 \"친환경 제품을 지속적으로 선보여 더 나은 미래를 위한 다양한 변화를 만들어 나갈 것\"이라고 말했다.\n"
     ]
    }
   ],
   "source": [
    "response=requests.get(\"https://n.news.naver.com/mnews/article/421/0006749855?sid=101\",headers={\"User-agent\":\"mozilla/5.0\"})\n",
    "html=response.text\n",
    "soup=BeautifulSoup(html,\"html.parser\")\n",
    "content=soup.select_one(\"div#dic_area\")\n",
    "print(content.text.strip())\n"
   ]
  },
  {
   "cell_type": "code",
   "execution_count": 1,
   "metadata": {},
   "outputs": [
    {
     "name": "stdout",
     "output_type": "stream",
     "text": [
      "이상현\n"
     ]
    }
   ],
   "source": [
    "class sbsd:\n",
    "    def __init__(self):\n",
    "        self.korea=\"이상현\"\n",
    "\n",
    "show=sbsd()\n",
    "print(show.korea)"
   ]
  },
  {
   "cell_type": "code",
   "execution_count": 17,
   "metadata": {},
   "outputs": [
    {
     "name": "stdout",
     "output_type": "stream",
     "text": [
      "[2, 1, 3, 4]\n"
     ]
    }
   ],
   "source": [
    "test = [1, 2, 3, 4]\n",
    "def swap(i, j):\n",
    "    temp = test[i] #원본값을 저장하고 있는다.\n",
    "    test[i] = test[j] #덮어쓴다.\n",
    "    test[j] = temp #수정당한녀석값에, 원래값을 치환한다.\n",
    "    print(test)\n",
    "swap(0,1)"
   ]
  },
  {
   "cell_type": "code",
   "execution_count": 18,
   "metadata": {},
   "outputs": [
    {
     "name": "stdout",
     "output_type": "stream",
     "text": [
      "2023년형 삼성 Neo QLED 신제품 6개 모델이 영국 ‘카본 트러스트(Carbon Trust)’로부터 ‘탄소 발자국-탄소저감인증(Reducing CO2)’을 받았다. 사진은 Neo QLED 탄소발자국 인증 마크 이미지 (삼성전자 제공) 2023.4.16/뉴스1 © News1 송원영 기자\n",
      "\n",
      "삼성전자(005930)는 Neo QLED 신제품 6개 모델이 영국 '카본 트러스트'(Carbon Trust)로부터 '탄소 발자국-탄소저감인증'(Reducing CO2)을 받았다고 16일 밝혔다.\n",
      "\n",
      "카본 트러스트는 영국 정부가 기후 변화 대응과 온실가스 감축을 목적으로 설립한 인증 기관이다. 제품 생산부터 폐기까지 전 과정에서 발생하는 온실가스 배출량을 국제 기준에 따라 평가해 탄소 발자국 인증을 수여한다. 특히 탄소저감인증은 같은 제품 모델의 전년 대비 탄소 발생량이 줄었을 경우에만 수여된다.\n",
      "\n",
      "삼성전자는 지난 2021년 Neo QLED 4K TV로 처음으로 탄소발자국 인증을 받았다. 지난해는 QLED 등 11개 TV 모델과 모니터·사이니지 5개 모델 등 총 16개 모델이 인증 대상으로 선정됐다.\n",
      "\n",
      "삼성전자는 OLED를 포함해 올해 총 20개 이상 모델의 탄소 발자국 인증 획득을 목표로 하고 있다.\n",
      "\n",
      "용석우 삼성전자 영상디스플레이사업부 부사장은 \"삼성전자는 글로벌 TV 시장을 견인하는 기술적 혁신을 넘어, 제품의 지속 가능성을 위해 꾸준한 노력을 기울이고 있다\"며 \"친환경 제품을 지속적으로 선보여 더 나은 미래를 위한 다양한 변화를 만들어 나갈 것\"이라고 말했다.\n",
      "\n",
      "hanantway@news1.kr\n"
     ]
    },
    {
     "data": {
      "text/plain": [
       "\"' \\nsoup.get_text('\\n', '<br/>'): 이 부분에서는 get_text() 함수를 사용하여 soup 객체 내의 텍스트를 추출합니다. \\n이 때, 두 개의 인자가 사용되는데, 첫 번째 인자인 '\\n'는 <br/> 태그를 대체할 문자열입니다. 두 번째 인자인 '<br/>'는 대체할 태그를 지정합니다.\\n이렇게 하면, 원본 HTML에서 <br/> 태그가 모두 줄바꿈 문자(\\n)로 대체됩니다.\\n\\n\""
      ]
     },
     "execution_count": 18,
     "metadata": {},
     "output_type": "execute_result"
    }
   ],
   "source": [
    "from bs4 import BeautifulSoup\n",
    "\n",
    "response=requests.get(\"https://www.news1.kr/articles/5016802\", headers={'User-agent' : 'Mozila/5.0'})\n",
    "response.encoding = \"utf-8\"\n",
    "html=response.text\n",
    "soup = BeautifulSoup(html, \"html.parser\")\n",
    "content = soup.select_one(\".detail.sa_area\")\n",
    "# <br/> 태그를 기준으로 텍스트를 분리합니다.\n",
    "paragraphs = content.get_text('\\n\\n', '<br/>').split('\\n')\n",
    "content.get_text()\n",
    "# 결과 출력\n",
    "for para in paragraphs:\n",
    "    print(para)\n",
    "\n",
    "\n",
    "'''' \n",
    "soup.get_text('\\n', '<br/>'): 이 부분에서는 get_text() 함수를 사용하여 soup 객체 내의 텍스트를 추출합니다. \n",
    "이 때, 두 개의 인자가 사용되는데, 첫 번째 인자인 '\\n'는 <br/> 태그를 대체할 문자열입니다. 두 번째 인자인 '<br/>'는 대체할 태그를 지정합니다.\n",
    "이렇게 하면, 원본 HTML에서 <br/> 태그가 모두 줄바꿈 문자(\\n)로 대체됩니다.\n",
    "\n",
    "'''"
   ]
  },
  {
   "cell_type": "code",
   "execution_count": 19,
   "metadata": {},
   "outputs": [
    {
     "name": "stdout",
     "output_type": "stream",
     "text": [
      " 스마텍 C타입 8in1 멀티 허브 ST-AH800 33,900원\n",
      " 아이플렉스 4포트무전원 3.0 USB허브 17,940원\n",
      "홈플래닛 홈플래닛 USB-A 커넥터 5포트 멀티 허브 (USB3.0 3개 + SD + mSD) 120cm 케이블 16,990원\n",
      "코시 코시 뉴욕 4포트 USB허브 UH3085 9,900원\n",
      "티피링크 티피링크 3.0 4포트 USB 허브 UH400 12,560원\n",
      " 베이식스 BU4A 4포트 초슬림 USB허브 2개입 19,800원\n",
      " ipTIME 5포트 유전원 USB3.0 허브 27,600원\n",
      "홈플래닛 홈플래닛 5포트 USB3.0 유전원허브 (USB*4 + 충전*1) 22,600원\n",
      " 엠비에프 USB C타입 멀티 허브 아답타 MBF-UC8IN1AC 37,750원\n",
      " 베이직기어 4포트 무전원 멀티포트 USB 3.0 허브 16,150원\n",
      " USB C타입 8in1 노트북 멀티허브 50,750원\n",
      " 아이논 USB 타입 C / A 4포트 허브 IN-UH420CA 30,380원\n",
      "티피링크 티피링크 3.0 4포트 USB 허브 UH400 12,560원\n",
      " 아이플렉스 4포트무전원 3.0 USB허브 17,940원\n",
      " ipTIME 5포트 유전원 USB3.0 허브 27,600원\n",
      " 엘레컴 기특한 USB허브 U2H-SN4BF-G 11,750원\n",
      "코시 코시 뉴욕 4포트 USB허브 UH3085 9,900원\n",
      "엑토 엑토 인투 USB 2.0 & 3.0 허브 HUB-30 10,290원\n",
      " ipTIME USB허브 UC304 14,300원\n",
      " 셀인스텍 USB2.0 확장허브 HUB-S401B 4,890원\n",
      " 아이플렉스 4포트무전원 3.0 USB허브 17,940원\n",
      "엑토 엑토 인투 USB 2.0 & 3.0 허브 HUB-30 10,290원\n",
      "넥스트 NEXT /USB3.0 허브/7포트/유전원/개별스위치 23,950원\n",
      "코시 UH2091C 부착형타입C USB3.0 4포트허브(USB A젠더포함) 22,700원\n",
      "엑토 엑토 4포트 C타입 USB 3.2 일체형 멀티허브 HUB-43 12,000원\n",
      "구스페리 구스페리 7포트 USB 3.0 HDMI 멀티허브 DEX 덱스 미러링 15,900원\n",
      "오리코 오리코 무전원 4포트 USB3.0 허브 DIY설치형 MH4PU 19,150원\n",
      "코시 코시 뉴욕 4포트 USB허브 UH3085 9,900원\n",
      " 아이논 USB 3.0 C타입 5in1 멀티허브 맥북 IN-UH410C 39,000원\n",
      "구스페리 구스페리 7포트 USB 3.0 HDMI 멀티허브 DEX 덱스 미러링 15,900원\n",
      " ThinkPad 시리즈 요가 시리즈 및 기타 USB-C 유형 C 어댑터 10,000원\n",
      " 디지털케미 C타입 기가비트 랜카드 + USB 3.0 허브 3포트 DCLH-G1300 24,500원\n",
      "슈피겐 슈피겐 에센셜 4포트 USB 3.2 허브 F101 16,670원\n",
      " ipTIME USB허브 UC304 14,300원\n",
      " [쿠팡수입] 만듦 USB 3.1 Gen1 4포트 허브 1.2m 12,800원\n",
      " 유니콘 USB3.0 7포트 허브 각포트 전원버튼 XH-Q5 14,650원\n",
      " 베이직기어 USB 3.0 5 in 1 멀티허브 19,850원\n",
      " [쿠팡수입] 만듦 4포트 USB 3.1 Gen1 허브 스위치 메탈 1.2m 13,830원\n",
      "주파집 주파집 3.1 USB 허브 1.2m JP-HUB200 20,150원\n",
      "홈플래닛 홈플래닛 7포트 USB3.0 HDMI 멀티허브 DEX 덱스 미러링 20,990원\n",
      "얼리봇 얼리봇 4포트 USB3.0 허브 LHV-300 12,000원\n",
      " 셀인스텍 TYPE-C TO USB 4포트 슬림허브 CH401 7,870원\n",
      "넥스트 USB3.0 4포트+충전 1포트 유전원허브 /NEXT-UH305 19,150원\n",
      "엑토 엑토 USB 2.0 4포트 무전원 포트확장 멀티허브 HUB-50 9,800원\n"
     ]
    }
   ],
   "source": [
    "import requests\n",
    "from bs4 import BeautifulSoup\n",
    "\n",
    "main_url = \"https://www.coupang.com/np/search?component=&q=usb%ED%97%88%EB%B8%8C&channel=user\"\n",
    "\n",
    "# 헤더에 User-Agent, Accept-Language 를 추가하지 않으면 멈춥니다\n",
    "header = {\n",
    "    'Host': 'www.coupang.com',\n",
    "    'User-Agent': 'Mozilla/5.0 (Windows NT 10.0; Win64; x64; rv:76.0) Gecko/20100101 Firefox/76.0',\n",
    "    'Accept': 'text/html,application/xhtml+xml,application/xml;q=0.9,image/webp,*/*;q=0.8',\n",
    "    'Accept-Language': 'ko-KR,ko;q=0.8,en-US;q=0.5,en;q=0.3',\n",
    "}\n",
    "\n",
    "response = requests.get(main_url, headers=header)\n",
    "html = response.text\n",
    "soup = BeautifulSoup(html, 'html.parser')\n",
    "\n",
    "links = soup.select(\"a.search-product-link\") # select의 결과는 리스트 자료형\n",
    "for link in links:\n",
    "    sub_url = \"https://www.coupang.com/\" + link.attrs['href']\n",
    "\n",
    "    response = requests.get(sub_url, headers=header)\n",
    "    html = response.text\n",
    "    soup = BeautifulSoup(html, 'html.parser')\n",
    "\n",
    "    # 브랜드명은 있을 수도 있고, 없을 수도 있어요\n",
    "    # - 중고상품일 때는 태그가 달라져요\n",
    "    # try - except로 예외처리를 해줍니다\n",
    "    try:\n",
    "        brand_name = soup.select_one(\"a.prod-brand-name\").text\n",
    "    except:\n",
    "        brand_name = \"\"\n",
    "    \n",
    "    # 상품명\n",
    "    product_name = soup.select_one(\"h2.prod-buy-header__title\").text\n",
    "\n",
    "    # 가격\n",
    "    product_price = soup.select_one(\"span.total-price > strong\").text\n",
    "\n",
    "    print(brand_name, product_name, product_price)"
   ]
  },
  {
   "cell_type": "code",
   "execution_count": null,
   "metadata": {},
   "outputs": [],
   "source": [
    "response=requests.get(\"https://www.news1.kr/articles/5016802\", headers={'User-agent' : 'Mozila/5.0'})\n",
    "response.encoding = \"utf-8\"\n",
    "html=response.text\n",
    "soup=BeautifulSoup(html,\"html.parser\")\n",
    "print(soup)"
   ]
  }
 ],
 "metadata": {
  "kernelspec": {
   "display_name": "Python 3",
   "language": "python",
   "name": "python3"
  },
  "language_info": {
   "codemirror_mode": {
    "name": "ipython",
    "version": 3
   },
   "file_extension": ".py",
   "mimetype": "text/x-python",
   "name": "python",
   "nbconvert_exporter": "python",
   "pygments_lexer": "ipython3",
   "version": "3.10.9"
  },
  "orig_nbformat": 4
 },
 "nbformat": 4,
 "nbformat_minor": 2
}
